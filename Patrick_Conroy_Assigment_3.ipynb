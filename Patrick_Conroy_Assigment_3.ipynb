{
  "nbformat": 4,
  "nbformat_minor": 0,
  "metadata": {
    "colab": {
      "name": "Patrick Conroy Assigment 3.ipynb",
      "provenance": [],
      "authorship_tag": "ABX9TyNPKCK/+h0z+89/uCexg63k",
      "include_colab_link": true
    },
    "kernelspec": {
      "name": "python3",
      "display_name": "Python 3"
    },
    "language_info": {
      "name": "python"
    }
  },
  "cells": [
    {
      "cell_type": "markdown",
      "metadata": {
        "id": "view-in-github",
        "colab_type": "text"
      },
      "source": [
        "<a href=\"https://colab.research.google.com/github/Pattheturtle/Gitrepositorybrohtien/blob/main/Patrick_Conroy_Assigment_3.ipynb\" target=\"_parent\"><img src=\"https://colab.research.google.com/assets/colab-badge.svg\" alt=\"Open In Colab\"/></a>"
      ]
    },
    {
      "cell_type": "markdown",
      "source": [
        "Patrick Conroy \n",
        "Dr. Delvin \n",
        "MSDS 599"
      ],
      "metadata": {
        "id": "SrrNStV1jIMz"
      }
    },
    {
      "cell_type": "code",
      "execution_count": null,
      "metadata": {
        "id": "xinQJogZilyT"
      },
      "outputs": [],
      "source": [
        "import pandas as pd\n",
        "import numpy as np\n",
        "import matplotlib.pyplot as plt\n",
        "import seaborn as sns\n",
        "import math\n",
        "import seaborn as sns\n",
        "import statsmodels.api as sm"
      ]
    },
    {
      "cell_type": "code",
      "source": [
        "from statsmodels.formula.api import ols\n",
        "from statsmodels.formula.api import logit\n",
        "from google.colab import drive \n",
        "from sklearn import metrics\n",
        "from sklearn.model_selection import cross_validate\n",
        "from sklearn.model_selection import train_test_split\n",
        "from sklearn.metrics import mean_squared_error\n",
        "from sklearn import datasets\n",
        "from sklearn.metrics import accuracy_score\n",
        "from sklearn import tree\n",
        "from sklearn.tree import DecisionTreeRegressor\n",
        "from sklearn.tree import DecisionTreeClassifier\n",
        "from sklearn.tree import export_text\n",
        "from sklearn.ensemble import BaggingRegressor\n",
        "from sklearn.ensemble import RandomForestRegressor\n",
        "from sklearn.preprocessing import StandardScaler\n",
        "from sklearn.neighbors import KNeighborsClassifier\n",
        "from sklearn.ensemble import RandomForestClassifier\n",
        "from sklearn.ensemble import GradientBoostingRegressor\n",
        "from sklearn.ensemble import GradientBoostingClassifier\n",
        "from sklearn.model_selection import GridSearchCV\n",
        "from sklearn.ensemble import BaggingClassifier\n",
        "from sklearn.linear_model import LogisticRegression"
      ],
      "metadata": {
        "id": "MBUXaafEjrli"
      },
      "execution_count": null,
      "outputs": []
    },
    {
      "cell_type": "code",
      "source": [
        "from google.colab import drive\n",
        "drive.mount('/content/drive')\n",
        "\n",
        "data = pd.read_csv('/content/drive/MyDrive/data/classify_me.csv')"
      ],
      "metadata": {
        "colab": {
          "base_uri": "https://localhost:8080/"
        },
        "id": "GxOMm71Tjxrr",
        "outputId": "dd04069b-6c8a-4272-a2d6-48edc1ec2fd4"
      },
      "execution_count": null,
      "outputs": [
        {
          "output_type": "stream",
          "name": "stdout",
          "text": [
            "Drive already mounted at /content/drive; to attempt to forcibly remount, call drive.mount(\"/content/drive\", force_remount=True).\n"
          ]
        }
      ]
    },
    {
      "cell_type": "code",
      "source": [
        "data.head(1)"
      ],
      "metadata": {
        "colab": {
          "base_uri": "https://localhost:8080/",
          "height": 80
        },
        "id": "NUnYKXYhkZXZ",
        "outputId": "a4f175f7-efb1-46dc-ea33-fc7815953758"
      },
      "execution_count": null,
      "outputs": [
        {
          "output_type": "execute_result",
          "data": {
            "text/plain": [
              "   Unnamed: 0         A       B         C         D         E         F  \\\n",
              "0           0  0.150333 -1.4686  0.420842 -0.878333 -1.348358  0.686323   \n",
              "\n",
              "          G         H         I         J  Target  \n",
              "0 -0.663374 -2.301067  1.302455  0.320666       2  "
            ],
            "text/html": [
              "\n",
              "  <div id=\"df-0209c228-84dc-492c-8abd-60a1e4bf0f6e\">\n",
              "    <div class=\"colab-df-container\">\n",
              "      <div>\n",
              "<style scoped>\n",
              "    .dataframe tbody tr th:only-of-type {\n",
              "        vertical-align: middle;\n",
              "    }\n",
              "\n",
              "    .dataframe tbody tr th {\n",
              "        vertical-align: top;\n",
              "    }\n",
              "\n",
              "    .dataframe thead th {\n",
              "        text-align: right;\n",
              "    }\n",
              "</style>\n",
              "<table border=\"1\" class=\"dataframe\">\n",
              "  <thead>\n",
              "    <tr style=\"text-align: right;\">\n",
              "      <th></th>\n",
              "      <th>Unnamed: 0</th>\n",
              "      <th>A</th>\n",
              "      <th>B</th>\n",
              "      <th>C</th>\n",
              "      <th>D</th>\n",
              "      <th>E</th>\n",
              "      <th>F</th>\n",
              "      <th>G</th>\n",
              "      <th>H</th>\n",
              "      <th>I</th>\n",
              "      <th>J</th>\n",
              "      <th>Target</th>\n",
              "    </tr>\n",
              "  </thead>\n",
              "  <tbody>\n",
              "    <tr>\n",
              "      <th>0</th>\n",
              "      <td>0</td>\n",
              "      <td>0.150333</td>\n",
              "      <td>-1.4686</td>\n",
              "      <td>0.420842</td>\n",
              "      <td>-0.878333</td>\n",
              "      <td>-1.348358</td>\n",
              "      <td>0.686323</td>\n",
              "      <td>-0.663374</td>\n",
              "      <td>-2.301067</td>\n",
              "      <td>1.302455</td>\n",
              "      <td>0.320666</td>\n",
              "      <td>2</td>\n",
              "    </tr>\n",
              "  </tbody>\n",
              "</table>\n",
              "</div>\n",
              "      <button class=\"colab-df-convert\" onclick=\"convertToInteractive('df-0209c228-84dc-492c-8abd-60a1e4bf0f6e')\"\n",
              "              title=\"Convert this dataframe to an interactive table.\"\n",
              "              style=\"display:none;\">\n",
              "        \n",
              "  <svg xmlns=\"http://www.w3.org/2000/svg\" height=\"24px\"viewBox=\"0 0 24 24\"\n",
              "       width=\"24px\">\n",
              "    <path d=\"M0 0h24v24H0V0z\" fill=\"none\"/>\n",
              "    <path d=\"M18.56 5.44l.94 2.06.94-2.06 2.06-.94-2.06-.94-.94-2.06-.94 2.06-2.06.94zm-11 1L8.5 8.5l.94-2.06 2.06-.94-2.06-.94L8.5 2.5l-.94 2.06-2.06.94zm10 10l.94 2.06.94-2.06 2.06-.94-2.06-.94-.94-2.06-.94 2.06-2.06.94z\"/><path d=\"M17.41 7.96l-1.37-1.37c-.4-.4-.92-.59-1.43-.59-.52 0-1.04.2-1.43.59L10.3 9.45l-7.72 7.72c-.78.78-.78 2.05 0 2.83L4 21.41c.39.39.9.59 1.41.59.51 0 1.02-.2 1.41-.59l7.78-7.78 2.81-2.81c.8-.78.8-2.07 0-2.86zM5.41 20L4 18.59l7.72-7.72 1.47 1.35L5.41 20z\"/>\n",
              "  </svg>\n",
              "      </button>\n",
              "      \n",
              "  <style>\n",
              "    .colab-df-container {\n",
              "      display:flex;\n",
              "      flex-wrap:wrap;\n",
              "      gap: 12px;\n",
              "    }\n",
              "\n",
              "    .colab-df-convert {\n",
              "      background-color: #E8F0FE;\n",
              "      border: none;\n",
              "      border-radius: 50%;\n",
              "      cursor: pointer;\n",
              "      display: none;\n",
              "      fill: #1967D2;\n",
              "      height: 32px;\n",
              "      padding: 0 0 0 0;\n",
              "      width: 32px;\n",
              "    }\n",
              "\n",
              "    .colab-df-convert:hover {\n",
              "      background-color: #E2EBFA;\n",
              "      box-shadow: 0px 1px 2px rgba(60, 64, 67, 0.3), 0px 1px 3px 1px rgba(60, 64, 67, 0.15);\n",
              "      fill: #174EA6;\n",
              "    }\n",
              "\n",
              "    [theme=dark] .colab-df-convert {\n",
              "      background-color: #3B4455;\n",
              "      fill: #D2E3FC;\n",
              "    }\n",
              "\n",
              "    [theme=dark] .colab-df-convert:hover {\n",
              "      background-color: #434B5C;\n",
              "      box-shadow: 0px 1px 3px 1px rgba(0, 0, 0, 0.15);\n",
              "      filter: drop-shadow(0px 1px 2px rgba(0, 0, 0, 0.3));\n",
              "      fill: #FFFFFF;\n",
              "    }\n",
              "  </style>\n",
              "\n",
              "      <script>\n",
              "        const buttonEl =\n",
              "          document.querySelector('#df-0209c228-84dc-492c-8abd-60a1e4bf0f6e button.colab-df-convert');\n",
              "        buttonEl.style.display =\n",
              "          google.colab.kernel.accessAllowed ? 'block' : 'none';\n",
              "\n",
              "        async function convertToInteractive(key) {\n",
              "          const element = document.querySelector('#df-0209c228-84dc-492c-8abd-60a1e4bf0f6e');\n",
              "          const dataTable =\n",
              "            await google.colab.kernel.invokeFunction('convertToInteractive',\n",
              "                                                     [key], {});\n",
              "          if (!dataTable) return;\n",
              "\n",
              "          const docLinkHtml = 'Like what you see? Visit the ' +\n",
              "            '<a target=\"_blank\" href=https://colab.research.google.com/notebooks/data_table.ipynb>data table notebook</a>'\n",
              "            + ' to learn more about interactive tables.';\n",
              "          element.innerHTML = '';\n",
              "          dataTable['output_type'] = 'display_data';\n",
              "          await google.colab.output.renderOutput(dataTable, element);\n",
              "          const docLink = document.createElement('div');\n",
              "          docLink.innerHTML = docLinkHtml;\n",
              "          element.appendChild(docLink);\n",
              "        }\n",
              "      </script>\n",
              "    </div>\n",
              "  </div>\n",
              "  "
            ]
          },
          "metadata": {},
          "execution_count": 68
        }
      ]
    },
    {
      "cell_type": "markdown",
      "source": [
        "#1 \n",
        "There looke to be three different catigories of Target. There is also 12 variables, unnamed: 0 included, 11 variables that look to be useful. There doesn't look to be any missing values. "
      ],
      "metadata": {
        "id": "1PQlCVfppk3j"
      }
    },
    {
      "cell_type": "code",
      "source": [
        "data['Target'].value_counts()"
      ],
      "metadata": {
        "colab": {
          "base_uri": "https://localhost:8080/"
        },
        "id": "yaHpkgG5khLR",
        "outputId": "9a8b3f2a-5a4a-4cc7-c0db-cd0a1d5268dc"
      },
      "execution_count": null,
      "outputs": [
        {
          "output_type": "execute_result",
          "data": {
            "text/plain": [
              "1    380\n",
              "0    333\n",
              "2    287\n",
              "Name: Target, dtype: int64"
            ]
          },
          "metadata": {},
          "execution_count": 69
        }
      ]
    },
    {
      "cell_type": "code",
      "source": [
        "data.dtypes"
      ],
      "metadata": {
        "colab": {
          "base_uri": "https://localhost:8080/"
        },
        "id": "EV1ie0kapeKu",
        "outputId": "6fa57fe4-080d-4f4b-9030-51dbafa708d2"
      },
      "execution_count": null,
      "outputs": [
        {
          "output_type": "execute_result",
          "data": {
            "text/plain": [
              "Unnamed: 0      int64\n",
              "A             float64\n",
              "B             float64\n",
              "C             float64\n",
              "D             float64\n",
              "E             float64\n",
              "F             float64\n",
              "G             float64\n",
              "H             float64\n",
              "I             float64\n",
              "J             float64\n",
              "Target          int64\n",
              "dtype: object"
            ]
          },
          "metadata": {},
          "execution_count": 70
        }
      ]
    },
    {
      "cell_type": "code",
      "source": [
        "data.isna().sum()"
      ],
      "metadata": {
        "colab": {
          "base_uri": "https://localhost:8080/"
        },
        "id": "_EqPEVmsqOwG",
        "outputId": "cb9235c4-fa8a-4892-c648-503333974dca"
      },
      "execution_count": null,
      "outputs": [
        {
          "output_type": "execute_result",
          "data": {
            "text/plain": [
              "Unnamed: 0    0\n",
              "A             0\n",
              "B             0\n",
              "C             0\n",
              "D             0\n",
              "E             0\n",
              "F             0\n",
              "G             0\n",
              "H             0\n",
              "I             0\n",
              "J             0\n",
              "Target        0\n",
              "dtype: int64"
            ]
          },
          "metadata": {},
          "execution_count": 71
        }
      ]
    },
    {
      "cell_type": "markdown",
      "source": [
        "#2 \n",
        "I am going to try not to cheat on this assinment and use a validation set to prevent data leakage. "
      ],
      "metadata": {
        "id": "SctLrN-pvxsR"
      }
    },
    {
      "cell_type": "code",
      "source": [
        "x = data[['A','B','C','D','E','F','G','H','I','J']]\n",
        "y = data['Target']\n",
        "\n",
        "x_train, x_rem, y_train, y_rem = train_test_split(x,y, train_size=0.7, random_state=5)\n",
        "\n",
        "test_size = 0.5\n",
        "x_valid, x_test, y_valid, y_test = train_test_split(x_rem,y_rem, test_size=0.5, random_state=5)"
      ],
      "metadata": {
        "id": "NabnbXrnm4PW"
      },
      "execution_count": null,
      "outputs": []
    },
    {
      "cell_type": "markdown",
      "source": [
        "#3 \n",
        "Testing models "
      ],
      "metadata": {
        "id": "2_2csDXGwpp6"
      }
    },
    {
      "cell_type": "markdown",
      "source": [
        "#Bagging"
      ],
      "metadata": {
        "id": "um_jOKuXxrAe"
      }
    },
    {
      "cell_type": "code",
      "source": [
        "firstModel = BaggingRegressor(base_estimator=DecisionTreeRegressor(),n_estimators=500,oob_score=True,random_state=5).fit(x_train, y_train)\n",
        "firstcoolmodel = firstModel.score(x_valid,y_valid)\n",
        "print(\"R^2 is {}\".format(firstModel.score(x_valid,y_valid)),\":\",\":\", \"MSE is {}\".format(mean_squared_error(firstModel.predict(x_valid),y_valid)))"
      ],
      "metadata": {
        "colab": {
          "base_uri": "https://localhost:8080/"
        },
        "id": "k4NK1lk9wtcL",
        "outputId": "a9568883-e810-4a8b-f7d5-d08b1ec94a71"
      },
      "execution_count": null,
      "outputs": [
        {
          "output_type": "stream",
          "name": "stdout",
          "text": [
            "R^2 is -0.03174660194174739 : : MSE is 0.6045576533333332\n"
          ]
        }
      ]
    },
    {
      "cell_type": "code",
      "source": [
        "firstModel.oob_score_\n",
        "num_trees=np.linspace(50,500,10)\n",
        "oob_res=[]\n",
        "for trs in num_trees:\n",
        "    res = BaggingRegressor(base_estimator=DecisionTreeRegressor(),n_estimators=int(trs),oob_score=True,random_state=5).fit(x_train, y_train)\n",
        "    oob_res.append(res.oob_score_)\n",
        "num_trees[np.argmax(oob_res)]"
      ],
      "metadata": {
        "colab": {
          "base_uri": "https://localhost:8080/"
        },
        "id": "fqnRFfjax73i",
        "outputId": "7775bedb-35a8-42e0-ad1f-c3dc692f861a"
      },
      "execution_count": null,
      "outputs": [
        {
          "output_type": "execute_result",
          "data": {
            "text/plain": [
              "500.0"
            ]
          },
          "metadata": {},
          "execution_count": 115
        }
      ]
    },
    {
      "cell_type": "code",
      "source": [
        "opt_trs=int(num_trees[np.argmax(oob_res)])\n",
        "regr = BaggingRegressor(base_estimator=DecisionTreeRegressor(),n_estimators=opt_trs,random_state=5).fit(x_train, y_train)\n",
        "firstModel = BaggingRegressor(base_estimator=DecisionTreeRegressor(),n_estimators=opt_trs,random_state=5).fit(x_train, y_train)\n"
      ],
      "metadata": {
        "id": "RV7bRpVNyVLL"
      },
      "execution_count": null,
      "outputs": []
    },
    {
      "cell_type": "code",
      "source": [
        "print(firstModel)"
      ],
      "metadata": {
        "colab": {
          "base_uri": "https://localhost:8080/"
        },
        "id": "24PVwehvzP1z",
        "outputId": "d0caa442-5c00-4113-e192-2ca4126e1011"
      },
      "execution_count": null,
      "outputs": [
        {
          "output_type": "stream",
          "name": "stdout",
          "text": [
            "BaggingRegressor(base_estimator=DecisionTreeRegressor(), n_estimators=500,\n",
            "                 random_state=0)\n"
          ]
        }
      ]
    },
    {
      "cell_type": "markdown",
      "source": [
        "#Random Forest\n"
      ],
      "metadata": {
        "id": "QC4Z37D10D5b"
      }
    },
    {
      "cell_type": "code",
      "source": [
        "rf = RandomForestRegressor(n_estimators=500,max_features='sqrt',random_state=5).fit(x_train,y_train)"
      ],
      "metadata": {
        "id": "FO0c1G4s0G4A"
      },
      "execution_count": null,
      "outputs": []
    },
    {
      "cell_type": "code",
      "source": [
        "rf.score(x_valid,y_valid)"
      ],
      "metadata": {
        "colab": {
          "base_uri": "https://localhost:8080/"
        },
        "id": "HgQ3ejeK0L5l",
        "outputId": "a2f18686-1be0-4c86-b05c-dab40c18593e"
      },
      "execution_count": null,
      "outputs": [
        {
          "output_type": "execute_result",
          "data": {
            "text/plain": [
              "-0.0011305825242720058"
            ]
          },
          "metadata": {},
          "execution_count": 78
        }
      ]
    },
    {
      "cell_type": "code",
      "source": [
        "scaler=StandardScaler()\n",
        "x_train_scaled=scaler.fit_transform(x_train)\n",
        "X_valid_scaled=scaler.fit_transform(x_valid)\n",
        "mod = KNeighborsClassifier(n_neighbors=5)\n",
        "brohtien=mod.fit(x_train_scaled,y_train)\n",
        "randomForest = accuracy_score(brohtien.predict(X_valid_scaled),y_valid)\n",
        "print(randomForest)"
      ],
      "metadata": {
        "colab": {
          "base_uri": "https://localhost:8080/"
        },
        "id": "uWWJYaw40cbk",
        "outputId": "4df29018-a6ad-4323-96c6-b3eec2b3f75c"
      },
      "execution_count": null,
      "outputs": [
        {
          "output_type": "stream",
          "name": "stdout",
          "text": [
            "0.44\n"
          ]
        }
      ]
    },
    {
      "cell_type": "markdown",
      "source": [
        "# Random Forest Classifier"
      ],
      "metadata": {
        "id": "d1b-Z17I2ODE"
      }
    },
    {
      "cell_type": "code",
      "source": [
        "coolCoolCool = RandomForestClassifier(n_estimators=500,max_features='sqrt',random_state=5,).fit(x_train,y_train)\n",
        "coolValid = accuracy_score(coolCoolCool.predict(x_valid),y_valid)\n",
        "print(coolValid)"
      ],
      "metadata": {
        "colab": {
          "base_uri": "https://localhost:8080/"
        },
        "id": "-WN89sTx1uwC",
        "outputId": "f005d4b2-b098-457f-c2ce-4e273ba2ff59"
      },
      "execution_count": null,
      "outputs": [
        {
          "output_type": "stream",
          "name": "stdout",
          "text": [
            "0.66\n"
          ]
        }
      ]
    },
    {
      "cell_type": "code",
      "source": [
        "verybrotien = GradientBoostingRegressor(random_state=5,learning_rate=0.1,n_estimators=500, max_depth=2).fit(x_train,y_train)\n",
        "notthatgreat = verybrotien.score(x_valid,y_valid)\n",
        "print(notthatgreat)"
      ],
      "metadata": {
        "colab": {
          "base_uri": "https://localhost:8080/"
        },
        "id": "aM4TOpt82gJA",
        "outputId": "a74067c3-e288-4384-a025-2fd64847570a"
      },
      "execution_count": null,
      "outputs": [
        {
          "output_type": "stream",
          "name": "stdout",
          "text": [
            "-0.18397566201362148\n"
          ]
        }
      ]
    },
    {
      "cell_type": "code",
      "source": [
        "lolcakes = {'learning_rate':[0.1,0.01], 'n_estimators':[300,400,500],'max_depth':[2,3,4,5]}\n",
        "forLackofBetterTitles = GradientBoostingRegressor(random_state=5)\n",
        "poorlyNamedVariable = GridSearchCV(forLackofBetterTitles, lolcakes)\n",
        "poorlyNamedVariable.fit(x_valid, y_valid)\n"
      ],
      "metadata": {
        "colab": {
          "base_uri": "https://localhost:8080/"
        },
        "id": "rDhZF3NA29Fy",
        "outputId": "e6378632-42da-43be-dfb5-4f696b26d841"
      },
      "execution_count": null,
      "outputs": [
        {
          "output_type": "execute_result",
          "data": {
            "text/plain": [
              "GridSearchCV(estimator=GradientBoostingRegressor(random_state=5),\n",
              "             param_grid={'learning_rate': [0.1, 0.01],\n",
              "                         'max_depth': [2, 3, 4, 5],\n",
              "                         'n_estimators': [300, 400, 500]})"
            ]
          },
          "metadata": {},
          "execution_count": 109
        }
      ]
    },
    {
      "cell_type": "code",
      "source": [
        "newdata=pd.DataFrame.from_dict(poorlyNamedVariable.cv_results_)\n",
        "newdata.head()"
      ],
      "metadata": {
        "colab": {
          "base_uri": "https://localhost:8080/",
          "height": 530
        },
        "id": "_xKuBSJs3xA0",
        "outputId": "964da188-a86b-474c-fc89-3dacf35bb10d"
      },
      "execution_count": null,
      "outputs": [
        {
          "output_type": "execute_result",
          "data": {
            "text/plain": [
              "   mean_fit_time  std_fit_time  mean_score_time  std_score_time  \\\n",
              "0       0.124024      0.004461         0.002341        0.000380   \n",
              "1       0.167329      0.004421         0.002234        0.000058   \n",
              "2       0.202992      0.006238         0.002307        0.000024   \n",
              "3       0.153332      0.003040         0.002278        0.000093   \n",
              "4       0.223995      0.036323         0.002428        0.000194   \n",
              "\n",
              "  param_learning_rate param_max_depth param_n_estimators  \\\n",
              "0                 0.1               2                300   \n",
              "1                 0.1               2                400   \n",
              "2                 0.1               2                500   \n",
              "3                 0.1               3                300   \n",
              "4                 0.1               3                400   \n",
              "\n",
              "                                              params  split0_test_score  \\\n",
              "0  {'learning_rate': 0.1, 'max_depth': 2, 'n_esti...          -0.580630   \n",
              "1  {'learning_rate': 0.1, 'max_depth': 2, 'n_esti...          -0.619645   \n",
              "2  {'learning_rate': 0.1, 'max_depth': 2, 'n_esti...          -0.641780   \n",
              "3  {'learning_rate': 0.1, 'max_depth': 3, 'n_esti...          -0.419023   \n",
              "4  {'learning_rate': 0.1, 'max_depth': 3, 'n_esti...          -0.422689   \n",
              "\n",
              "   split1_test_score  split2_test_score  split3_test_score  split4_test_score  \\\n",
              "0          -0.131230           0.006983          -0.474196          -0.051705   \n",
              "1          -0.149082           0.007569          -0.495020          -0.056224   \n",
              "2          -0.160908           0.014469          -0.507786          -0.066160   \n",
              "3          -0.042290          -0.055299          -0.370535          -0.043930   \n",
              "4          -0.051307          -0.050633          -0.376849          -0.051359   \n",
              "\n",
              "   mean_test_score  std_test_score  rank_test_score  \n",
              "0        -0.246156        0.236209               22  \n",
              "1        -0.262480        0.248985               23  \n",
              "2        -0.272433        0.256557               24  \n",
              "3        -0.186216        0.171039               13  \n",
              "4        -0.190567        0.171427               14  "
            ],
            "text/html": [
              "\n",
              "  <div id=\"df-cea21b2d-7370-482a-aa64-056cf182f60a\">\n",
              "    <div class=\"colab-df-container\">\n",
              "      <div>\n",
              "<style scoped>\n",
              "    .dataframe tbody tr th:only-of-type {\n",
              "        vertical-align: middle;\n",
              "    }\n",
              "\n",
              "    .dataframe tbody tr th {\n",
              "        vertical-align: top;\n",
              "    }\n",
              "\n",
              "    .dataframe thead th {\n",
              "        text-align: right;\n",
              "    }\n",
              "</style>\n",
              "<table border=\"1\" class=\"dataframe\">\n",
              "  <thead>\n",
              "    <tr style=\"text-align: right;\">\n",
              "      <th></th>\n",
              "      <th>mean_fit_time</th>\n",
              "      <th>std_fit_time</th>\n",
              "      <th>mean_score_time</th>\n",
              "      <th>std_score_time</th>\n",
              "      <th>param_learning_rate</th>\n",
              "      <th>param_max_depth</th>\n",
              "      <th>param_n_estimators</th>\n",
              "      <th>params</th>\n",
              "      <th>split0_test_score</th>\n",
              "      <th>split1_test_score</th>\n",
              "      <th>split2_test_score</th>\n",
              "      <th>split3_test_score</th>\n",
              "      <th>split4_test_score</th>\n",
              "      <th>mean_test_score</th>\n",
              "      <th>std_test_score</th>\n",
              "      <th>rank_test_score</th>\n",
              "    </tr>\n",
              "  </thead>\n",
              "  <tbody>\n",
              "    <tr>\n",
              "      <th>0</th>\n",
              "      <td>0.124024</td>\n",
              "      <td>0.004461</td>\n",
              "      <td>0.002341</td>\n",
              "      <td>0.000380</td>\n",
              "      <td>0.1</td>\n",
              "      <td>2</td>\n",
              "      <td>300</td>\n",
              "      <td>{'learning_rate': 0.1, 'max_depth': 2, 'n_esti...</td>\n",
              "      <td>-0.580630</td>\n",
              "      <td>-0.131230</td>\n",
              "      <td>0.006983</td>\n",
              "      <td>-0.474196</td>\n",
              "      <td>-0.051705</td>\n",
              "      <td>-0.246156</td>\n",
              "      <td>0.236209</td>\n",
              "      <td>22</td>\n",
              "    </tr>\n",
              "    <tr>\n",
              "      <th>1</th>\n",
              "      <td>0.167329</td>\n",
              "      <td>0.004421</td>\n",
              "      <td>0.002234</td>\n",
              "      <td>0.000058</td>\n",
              "      <td>0.1</td>\n",
              "      <td>2</td>\n",
              "      <td>400</td>\n",
              "      <td>{'learning_rate': 0.1, 'max_depth': 2, 'n_esti...</td>\n",
              "      <td>-0.619645</td>\n",
              "      <td>-0.149082</td>\n",
              "      <td>0.007569</td>\n",
              "      <td>-0.495020</td>\n",
              "      <td>-0.056224</td>\n",
              "      <td>-0.262480</td>\n",
              "      <td>0.248985</td>\n",
              "      <td>23</td>\n",
              "    </tr>\n",
              "    <tr>\n",
              "      <th>2</th>\n",
              "      <td>0.202992</td>\n",
              "      <td>0.006238</td>\n",
              "      <td>0.002307</td>\n",
              "      <td>0.000024</td>\n",
              "      <td>0.1</td>\n",
              "      <td>2</td>\n",
              "      <td>500</td>\n",
              "      <td>{'learning_rate': 0.1, 'max_depth': 2, 'n_esti...</td>\n",
              "      <td>-0.641780</td>\n",
              "      <td>-0.160908</td>\n",
              "      <td>0.014469</td>\n",
              "      <td>-0.507786</td>\n",
              "      <td>-0.066160</td>\n",
              "      <td>-0.272433</td>\n",
              "      <td>0.256557</td>\n",
              "      <td>24</td>\n",
              "    </tr>\n",
              "    <tr>\n",
              "      <th>3</th>\n",
              "      <td>0.153332</td>\n",
              "      <td>0.003040</td>\n",
              "      <td>0.002278</td>\n",
              "      <td>0.000093</td>\n",
              "      <td>0.1</td>\n",
              "      <td>3</td>\n",
              "      <td>300</td>\n",
              "      <td>{'learning_rate': 0.1, 'max_depth': 3, 'n_esti...</td>\n",
              "      <td>-0.419023</td>\n",
              "      <td>-0.042290</td>\n",
              "      <td>-0.055299</td>\n",
              "      <td>-0.370535</td>\n",
              "      <td>-0.043930</td>\n",
              "      <td>-0.186216</td>\n",
              "      <td>0.171039</td>\n",
              "      <td>13</td>\n",
              "    </tr>\n",
              "    <tr>\n",
              "      <th>4</th>\n",
              "      <td>0.223995</td>\n",
              "      <td>0.036323</td>\n",
              "      <td>0.002428</td>\n",
              "      <td>0.000194</td>\n",
              "      <td>0.1</td>\n",
              "      <td>3</td>\n",
              "      <td>400</td>\n",
              "      <td>{'learning_rate': 0.1, 'max_depth': 3, 'n_esti...</td>\n",
              "      <td>-0.422689</td>\n",
              "      <td>-0.051307</td>\n",
              "      <td>-0.050633</td>\n",
              "      <td>-0.376849</td>\n",
              "      <td>-0.051359</td>\n",
              "      <td>-0.190567</td>\n",
              "      <td>0.171427</td>\n",
              "      <td>14</td>\n",
              "    </tr>\n",
              "  </tbody>\n",
              "</table>\n",
              "</div>\n",
              "      <button class=\"colab-df-convert\" onclick=\"convertToInteractive('df-cea21b2d-7370-482a-aa64-056cf182f60a')\"\n",
              "              title=\"Convert this dataframe to an interactive table.\"\n",
              "              style=\"display:none;\">\n",
              "        \n",
              "  <svg xmlns=\"http://www.w3.org/2000/svg\" height=\"24px\"viewBox=\"0 0 24 24\"\n",
              "       width=\"24px\">\n",
              "    <path d=\"M0 0h24v24H0V0z\" fill=\"none\"/>\n",
              "    <path d=\"M18.56 5.44l.94 2.06.94-2.06 2.06-.94-2.06-.94-.94-2.06-.94 2.06-2.06.94zm-11 1L8.5 8.5l.94-2.06 2.06-.94-2.06-.94L8.5 2.5l-.94 2.06-2.06.94zm10 10l.94 2.06.94-2.06 2.06-.94-2.06-.94-.94-2.06-.94 2.06-2.06.94z\"/><path d=\"M17.41 7.96l-1.37-1.37c-.4-.4-.92-.59-1.43-.59-.52 0-1.04.2-1.43.59L10.3 9.45l-7.72 7.72c-.78.78-.78 2.05 0 2.83L4 21.41c.39.39.9.59 1.41.59.51 0 1.02-.2 1.41-.59l7.78-7.78 2.81-2.81c.8-.78.8-2.07 0-2.86zM5.41 20L4 18.59l7.72-7.72 1.47 1.35L5.41 20z\"/>\n",
              "  </svg>\n",
              "      </button>\n",
              "      \n",
              "  <style>\n",
              "    .colab-df-container {\n",
              "      display:flex;\n",
              "      flex-wrap:wrap;\n",
              "      gap: 12px;\n",
              "    }\n",
              "\n",
              "    .colab-df-convert {\n",
              "      background-color: #E8F0FE;\n",
              "      border: none;\n",
              "      border-radius: 50%;\n",
              "      cursor: pointer;\n",
              "      display: none;\n",
              "      fill: #1967D2;\n",
              "      height: 32px;\n",
              "      padding: 0 0 0 0;\n",
              "      width: 32px;\n",
              "    }\n",
              "\n",
              "    .colab-df-convert:hover {\n",
              "      background-color: #E2EBFA;\n",
              "      box-shadow: 0px 1px 2px rgba(60, 64, 67, 0.3), 0px 1px 3px 1px rgba(60, 64, 67, 0.15);\n",
              "      fill: #174EA6;\n",
              "    }\n",
              "\n",
              "    [theme=dark] .colab-df-convert {\n",
              "      background-color: #3B4455;\n",
              "      fill: #D2E3FC;\n",
              "    }\n",
              "\n",
              "    [theme=dark] .colab-df-convert:hover {\n",
              "      background-color: #434B5C;\n",
              "      box-shadow: 0px 1px 3px 1px rgba(0, 0, 0, 0.15);\n",
              "      filter: drop-shadow(0px 1px 2px rgba(0, 0, 0, 0.3));\n",
              "      fill: #FFFFFF;\n",
              "    }\n",
              "  </style>\n",
              "\n",
              "      <script>\n",
              "        const buttonEl =\n",
              "          document.querySelector('#df-cea21b2d-7370-482a-aa64-056cf182f60a button.colab-df-convert');\n",
              "        buttonEl.style.display =\n",
              "          google.colab.kernel.accessAllowed ? 'block' : 'none';\n",
              "\n",
              "        async function convertToInteractive(key) {\n",
              "          const element = document.querySelector('#df-cea21b2d-7370-482a-aa64-056cf182f60a');\n",
              "          const dataTable =\n",
              "            await google.colab.kernel.invokeFunction('convertToInteractive',\n",
              "                                                     [key], {});\n",
              "          if (!dataTable) return;\n",
              "\n",
              "          const docLinkHtml = 'Like what you see? Visit the ' +\n",
              "            '<a target=\"_blank\" href=https://colab.research.google.com/notebooks/data_table.ipynb>data table notebook</a>'\n",
              "            + ' to learn more about interactive tables.';\n",
              "          element.innerHTML = '';\n",
              "          dataTable['output_type'] = 'display_data';\n",
              "          await google.colab.output.renderOutput(dataTable, element);\n",
              "          const docLink = document.createElement('div');\n",
              "          docLink.innerHTML = docLinkHtml;\n",
              "          element.appendChild(docLink);\n",
              "        }\n",
              "      </script>\n",
              "    </div>\n",
              "  </div>\n",
              "  "
            ]
          },
          "metadata": {},
          "execution_count": 83
        }
      ]
    },
    {
      "cell_type": "code",
      "source": [
        "stillAtIt = GradientBoostingRegressor(random_state=5,learning_rate=0.01,n_estimators=500,max_depth=5).fit(x_train,y_train)\n",
        "gradentBoostReg = np.round(stillAtIt.score(x_valid,y_valid),3)\n",
        "print(gradentBoostReg)"
      ],
      "metadata": {
        "colab": {
          "base_uri": "https://localhost:8080/"
        },
        "id": "7ieIMMTb4IKD",
        "outputId": "92d0e914-89e5-428c-dddc-9adfaa41e330"
      },
      "execution_count": null,
      "outputs": [
        {
          "output_type": "stream",
          "name": "stdout",
          "text": [
            "-0.013\n"
          ]
        }
      ]
    },
    {
      "cell_type": "markdown",
      "source": [
        "# Recall Decision Tree Classifiers "
      ],
      "metadata": {
        "id": "VhCJ0kti43n9"
      }
    },
    {
      "cell_type": "code",
      "source": [
        "secondModel = BaggingClassifier(base_estimator=DecisionTreeClassifier(),n_estimators=500,random_state=5).fit(x_train, y_train)\n",
        "secondModelvaild = accuracy_score(secondModel.predict(x_valid),y_valid)\n",
        "print(secondModelvaild)"
      ],
      "metadata": {
        "colab": {
          "base_uri": "https://localhost:8080/"
        },
        "id": "hppUYm0Y6YOq",
        "outputId": "41eb8a13-a804-4aec-94c6-2556a32bd616"
      },
      "execution_count": null,
      "outputs": [
        {
          "output_type": "stream",
          "name": "stdout",
          "text": [
            "0.6466666666666666\n"
          ]
        }
      ]
    },
    {
      "cell_type": "code",
      "source": [
        "thirdModel = RandomForestClassifier(n_estimators=500, max_features='sqrt',random_state=5).fit(x_train,y_train)\n",
        "thirdModelValid = accuracy_score(thirdModel.predict(x_valid),y_valid)\n",
        "accuracy_score(thirdModel.predict(x_valid),y_valid)"
      ],
      "metadata": {
        "colab": {
          "base_uri": "https://localhost:8080/"
        },
        "id": "IboQKY9G-hN4",
        "outputId": "df8eb0c7-1410-429b-bc76-bd62fd8a12f6"
      },
      "execution_count": null,
      "outputs": [
        {
          "output_type": "execute_result",
          "data": {
            "text/plain": [
              "0.66"
            ]
          },
          "metadata": {},
          "execution_count": 112
        }
      ]
    },
    {
      "cell_type": "code",
      "source": [
        "forthModel = GradientBoostingClassifier(n_estimators=500, learning_rate=0.01,max_depth=5,random_state=5).fit(x_train, y_train)\n",
        "forthModelValid = accuracy_score(forthModel.predict(x_valid),y_valid)\n",
        "accuracy_score(forthModel.predict(x_valid),y_valid)"
      ],
      "metadata": {
        "colab": {
          "base_uri": "https://localhost:8080/"
        },
        "id": "7OQ-Bc96-s8m",
        "outputId": "4e0c7c6a-e5b8-4e0d-ff14-23f88aa8364c"
      },
      "execution_count": null,
      "outputs": [
        {
          "output_type": "execute_result",
          "data": {
            "text/plain": [
              "0.6266666666666667"
            ]
          },
          "metadata": {},
          "execution_count": 120
        }
      ]
    },
    {
      "cell_type": "code",
      "source": [
        "single_tree_clf = DecisionTreeClassifier(random_state=5)\n",
        "path = single_tree_clf.cost_complexity_pruning_path(x_train, y_train)\n",
        "ccp_alphas, impurities = path.ccp_alphas, path.impurities\n",
        "\n",
        "cvres=[]\n",
        "for a in ccp_alphas:\n",
        "    st_clf = DecisionTreeClassifier(random_state=5, ccp_alpha= a)\n",
        "    cvclf = cross_validate(st_clf, x_train, y_train, cv=5, scoring='accuracy')\n",
        "    cvres.append(cvclf['test_score'].mean())\n",
        "np.argmax(cvres)"
      ],
      "metadata": {
        "colab": {
          "base_uri": "https://localhost:8080/"
        },
        "id": "4a-PLnHi_yIe",
        "outputId": "109e0930-6597-403f-b39c-45daaf83453b"
      },
      "execution_count": null,
      "outputs": [
        {
          "output_type": "execute_result",
          "data": {
            "text/plain": [
              "62"
            ]
          },
          "metadata": {},
          "execution_count": 126
        }
      ]
    },
    {
      "cell_type": "code",
      "source": [
        "al=ccp_alphas[np.argmax(cvres)]\n",
        "lolocopter = DecisionTreeClassifier(random_state=5, ccp_alpha=al).fit(x_train,y_train)\n",
        "lolocoptervalid = accuracy_score(lolocopter.predict(x_valid),y_valid)\n",
        "print(lolocoptervalid)"
      ],
      "metadata": {
        "colab": {
          "base_uri": "https://localhost:8080/"
        },
        "id": "U3h0IOdTAPEE",
        "outputId": "b6936a86-b857-4b75-c156-3edd276f7221"
      },
      "execution_count": null,
      "outputs": [
        {
          "output_type": "stream",
          "name": "stdout",
          "text": [
            "0.49333333333333335\n"
          ]
        }
      ]
    },
    {
      "cell_type": "code",
      "source": [
        "#Random Forest regresson \n",
        "fifthModel = RandomForestRegressor(n_estimators=500,max_features='sqrt',random_state=5).fit(x_train,y_train)\n",
        "fifthmodelvalid = fifthModel.score(x_valid,y_valid)"
      ],
      "metadata": {
        "id": "pelANl69BGQS"
      },
      "execution_count": null,
      "outputs": []
    },
    {
      "cell_type": "markdown",
      "source": [
        "#Summing up the accuracy scores "
      ],
      "metadata": {
        "id": "xwtR8GOyB-dc"
      }
    },
    {
      "cell_type": "code",
      "source": [
        "print('This is what I got with the first model, was not able to get running', firstModel)\n",
        "print('This is a bagging regressor', firstcoolmodel)\n",
        "print('This is a random forest', randomForest)\n",
        "print('This is a random Forest Classifier', coolValid)\n",
        "print('This is the first gradient boost regressor', notthatgreat)\n",
        "print('This is another gradent Boos Regression', gradentBoostReg)\n",
        "print('This is an improved bagging Classifier', secondModelvaild)\n",
        "print('This is a random forest Classifier', thirdModelValid)\n",
        "print('This is a gradent boosing classifier', forthModelValid)\n",
        "print('This is a decesion tree classifier', lolocoptervalid)\n",
        "print('This is the random forest regression on the vaidset', fifthmodelvalid)"
      ],
      "metadata": {
        "colab": {
          "base_uri": "https://localhost:8080/"
        },
        "id": "aTf0kZC2F72Q",
        "outputId": "d861e2a3-3012-4c12-e67e-2f1dba1d19d8"
      },
      "execution_count": null,
      "outputs": [
        {
          "output_type": "stream",
          "name": "stdout",
          "text": [
            "This is what I got with the first model, was not able to get running BaggingRegressor(base_estimator=DecisionTreeRegressor(), n_estimators=500,\n",
            "                 random_state=0)\n",
            "This is a bagging regressor -0.054165276092233094\n",
            "This is a random forest 0.44\n",
            "This is a random Forest Classifier 0.6466666666666666\n",
            "This is the first gradient boost regressor -0.28989845777749523\n",
            "This is another gradent Boos Regression 0.042\n",
            "This is an improved bagging Classifier 0.6466666666666666\n",
            "This is a random forest Classifier 0.66\n",
            "This is a gradent boosing classifier 0.6066666666666667\n",
            "This is a decesion tree classifier 0.49333333333333335\n",
            "This is the random forest regression on the vaidset -0.0011305825242720058\n"
          ]
        }
      ]
    },
    {
      "cell_type": "markdown",
      "source": [
        "#4 \n",
        "The random forest classifier seems to have the highest score. Time to run on the test data for the final accuracy!\n",
        "The random forest is easy to use off the shelf, did great with predictors, not to much parameter tuning, and prevents overfitting!! "
      ],
      "metadata": {
        "id": "CsBKcQ6OMwo9"
      }
    },
    {
      "cell_type": "code",
      "source": [
        "finalAccuracyScore = accuracy_score(thirdModel.predict(x_test),y_test)\n",
        "print('And the score on the test data using Random forest Classifier', finalAccuracyScore)"
      ],
      "metadata": {
        "colab": {
          "base_uri": "https://localhost:8080/"
        },
        "id": "Rin05kVMMv_2",
        "outputId": "7690be39-592b-46b3-e517-a826cd2d19fc"
      },
      "execution_count": null,
      "outputs": [
        {
          "output_type": "stream",
          "name": "stdout",
          "text": [
            "And the score on the test data using Random forest Classifier 0.62\n"
          ]
        }
      ]
    }
  ]
}